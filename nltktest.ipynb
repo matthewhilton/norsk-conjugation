{
 "metadata": {
  "language_info": {
   "codemirror_mode": {
    "name": "ipython",
    "version": 3
   },
   "file_extension": ".py",
   "mimetype": "text/x-python",
   "name": "python",
   "nbconvert_exporter": "python",
   "pygments_lexer": "ipython3",
   "version": "3.8.7-final"
  },
  "orig_nbformat": 2,
  "kernelspec": {
   "name": "python3",
   "display_name": "Python 3.8.7 64-bit",
   "metadata": {
    "interpreter": {
     "hash": "fd702e9fca7e7793b54b890356c3c5de9f852908fdece2ff9a2ffa4b76608ab4"
    }
   }
  }
 },
 "nbformat": 4,
 "nbformat_minor": 2,
 "cells": [
  {
   "cell_type": "code",
   "execution_count": 5,
   "metadata": {},
   "outputs": [],
   "source": [
    "from nltk import word_tokenize, pos_tag, sent_tokenize\n",
    "import re\n",
    "import uuid\n",
    "import requests\n",
    "import json\n",
    "\n",
    "sample = '''\n",
    "Once upon a time there were four little Rabbits, and their names\n",
    "were--\n",
    "\n",
    "          Flopsy,\n",
    "       Mopsy,\n",
    "   Cotton-tail,\n",
    "and Peter.\n",
    "\n",
    "They lived with their Mother in a sand-bank, underneath the root of a\n",
    "very big fir-tree.\n",
    "\n",
    "'Now my dears,' said old Mrs. Rabbit one morning, 'you may go into\n",
    "the fields or down the lane, but don't go into Mr. McGregor's garden:\n",
    "your Father had an accident there; he was put in a pie by Mrs.\n",
    "McGregor.'\n",
    "\n",
    "[Illustration]\n",
    "\n",
    "[Illustration]\n",
    "\n",
    "'Now run along, and don't get into mischief. I am going out.'\n",
    "\n",
    "Then old Mrs. Rabbit took a basket and her umbrella, and went through\n",
    "the wood to the baker's. She bought a loaf of brown bread and five\n",
    "currant buns.\n",
    "'''\n",
    "\n",
    "# Format the sample\n",
    "combine_whitespace = re.compile(r\"\\s+\")\n",
    "\n",
    "sample_formatted = sample.replace('[Illustration]', '').replace('\\n', ' ').replace('Mr.', 'Mr ').replace('Mrs. ', 'Mrs ')\n",
    "sample_formatted = combine_whitespace.sub(\" \", sample_formatted).strip()\n",
    "\n",
    "tag_dict = {\n",
    "    'VB': 'Verb Base',\n",
    "    'VBD': 'Past Tense',\n",
    "    'VBG': 'Gerund/Present Participle',\n",
    "    'VBN': 'Past Participle',\n",
    "    'VBP': 'Singular Present',\n",
    "    'VBZ': '3rd Person Singular Present'\n",
    "}\n",
    "\n",
    "\n",
    "def translate(sentence: str, to_language: str):\n",
    "    base_url = 'https://api.cognitive.microsofttranslator.com'\n",
    "    endpoint = '/translate?api-version=3.0'\n",
    "    params = '&to=' + to_language\n",
    "    constructed_url = base_url + endpoint + params\n",
    "\n",
    "    subscription_key = \"7bfbbcdab65841f3a97a5a7786181a34\"\n",
    "    location = \"southeastasia\"\n",
    "\n",
    "    headers = {\n",
    "        'Ocp-Apim-Subscription-Key': subscription_key,\n",
    "        'Ocp-Apim-Subscription-Region': location,\n",
    "        'Content-type': 'application/json',\n",
    "        'X-ClientTraceId': str(uuid.uuid4())\n",
    "    }\n",
    "\n",
    "    body = [{\n",
    "        'text' : sentence\n",
    "    }]\n",
    "    response = requests.post(constructed_url, headers=headers, json=body)\n",
    "    return response.json()[0]['translations'][0]['text']\n",
    "\n",
    "\n",
    "def get_sentence_verbs(sentence: str):\n",
    "    word_tokens = word_tokenize(sentence)\n",
    "    sentence_parts = pos_tag(word_tokens)\n",
    "    # Filter out only verbs\n",
    "    verbs = []\n",
    "    for part in sentence_parts:\n",
    "        if part[1] in tag_dict.keys():\n",
    "            verbs.append(part)\n",
    "    return verbs"
   ]
  },
  {
   "cell_type": "code",
   "execution_count": 21,
   "metadata": {},
   "outputs": [],
   "source": [
    "sentences = sent_tokenize(sample_formatted)\n",
    "\n",
    "# Get a sample sentence \n",
    "s = sentences[5]\n",
    "translated_sentence = translate(s, \"nb\")\n"
   ]
  },
  {
   "cell_type": "code",
   "execution_count": 22,
   "metadata": {},
   "outputs": [
    {
     "output_type": "stream",
     "name": "stdout",
     "text": [
      "Then old Mrs Rabbit took a basket and her umbrella, and went through the wood to the baker's.\nSå tok fru Rabbit en kurv og paraplyen hennes, og gikk gjennom skogen til bakerens.\n[('took', 'VBD'), ('went', 'VBD')]\n"
     ]
    }
   ],
   "source": [
    "sentence_verbs = get_sentence_verbs(s)\n",
    "\n",
    "print(s)\n",
    "print(translated_sentence)\n",
    "print(sentence_verbs)"
   ]
  },
  {
   "cell_type": "code",
   "execution_count": 23,
   "metadata": {},
   "outputs": [
    {
     "output_type": "stream",
     "name": "stdout",
     "text": [
      "{'took': 'Tok', 'went': 'Gikk'}\n"
     ]
    }
   ],
   "source": [
    "verb_translations = {}\n",
    "for verb in sentence_verbs:\n",
    "    verb_translated = translate(verb[0], \"nb\")\n",
    "    verb_translations[verb[0]] = verb_translated\n",
    "\n",
    "print(verb_translations)"
   ]
  },
  {
   "cell_type": "code",
   "execution_count": null,
   "metadata": {},
   "outputs": [],
   "source": []
  }
 ]
}