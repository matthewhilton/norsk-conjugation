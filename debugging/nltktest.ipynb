{
 "cells": [
  {
   "cell_type": "code",
   "execution_count": null,
   "metadata": {},
   "outputs": [],
   "source": [
    "from nltk import word_tokenize, pos_tag, sent_tokenize\n",
    "import re\n",
    "import uuid\n",
    "import requests\n",
    "import json\n",
    "\n",
    "sample = '''\n",
    "Once upon a time there were four little Rabbits, and their names\n",
    "were--\n",
    "\n",
    "          Flopsy,\n",
    "       Mopsy,\n",
    "   Cotton-tail,\n",
    "and Peter.\n",
    "\n",
    "They lived with their Mother in a sand-bank, underneath the root of a\n",
    "very big fir-tree.\n",
    "\n",
    "'Now my dears,' said old Mrs. Rabbit one morning, 'you may go into\n",
    "the fields or down the lane, but don't go into Mr. McGregor's garden:\n",
    "your Father had an accident there; he was put in a pie by Mrs.\n",
    "McGregor.'\n",
    "\n",
    "[Illustration]\n",
    "\n",
    "[Illustration]\n",
    "\n",
    "'Now run along, and don't get into mischief. I am going out.'\n",
    "\n",
    "Then old Mrs. Rabbit took a basket and her umbrella, and went through\n",
    "the wood to the baker's. She bought a loaf of brown bread and five\n",
    "currant buns.\n",
    "'''\n",
    "\n",
    "# Format the sample\n",
    "combine_whitespace = re.compile(r\"\\s+\")\n",
    "\n",
    "sample_formatted = sample.replace('[Illustration]', '').replace('\\n', ' ').replace('Mr.', 'Mr ').replace('Mrs. ', 'Mrs ')\n",
    "sample_formatted = combine_whitespace.sub(\" \", sample_formatted).strip()\n",
    "\n",
    "tag_dict = {\n",
    "    'VB': 'Verb Base',\n",
    "    'VBD': 'Past Tense',\n",
    "    'VBG': 'Gerund/Present Participle',\n",
    "    'VBN': 'Past Participle',\n",
    "    'VBP': 'Singular Present',\n",
    "    'VBZ': '3rd Person Singular Present'\n",
    "}\n",
    "\n",
    "\n",
    "def translate(sentence: str, to_language: str):\n",
    "    base_url = 'https://api.cognitive.microsofttranslator.com'\n",
    "    endpoint = '/translate?api-version=3.0'\n",
    "    params = '&to=' + to_language\n",
    "    constructed_url = base_url + endpoint + params\n",
    "\n",
    "    subscription_key = \"7bfbbcdab65841f3a97a5a7786181a34\"\n",
    "    location = \"southeastasia\"\n",
    "\n",
    "    headers = {\n",
    "        'Ocp-Apim-Subscription-Key': subscription_key,\n",
    "        'Ocp-Apim-Subscription-Region': location,\n",
    "        'Content-type': 'application/json',\n",
    "        'X-ClientTraceId': str(uuid.uuid4())\n",
    "    }\n",
    "\n",
    "    body = [{\n",
    "        'text' : sentence\n",
    "    }]\n",
    "    response = requests.post(constructed_url, headers=headers, json=body)\n",
    "    return response.json()[0]['translations'][0]['text']\n",
    "\n",
    "\n",
    "def get_sentence_verbs(sentence: str):\n",
    "    word_tokens = word_tokenize(sentence)\n",
    "    sentence_parts = pos_tag(word_tokens)\n",
    "    # Filter out only verbs\n",
    "    verbs = []\n",
    "    for part in sentence_parts:\n",
    "        if part[1] in tag_dict.keys():\n",
    "            verbs.append(part)\n",
    "    return verbs"
   ]
  },
  {
   "cell_type": "code",
   "execution_count": 8,
   "metadata": {},
   "outputs": [],
   "source": [
    "sentences = sent_tokenize(sample_formatted)"
   ]
  },
  {
   "cell_type": "code",
   "execution_count": 27,
   "metadata": {},
   "outputs": [
    {
     "name": "stdout",
     "output_type": "stream",
     "text": [
      "Then old Mrs Rabbit took a basket and her umbrella, and went through the wood to the baker's.\n",
      "Så tok fru Rabbit en kurv og paraplyen hennes, og gikk gjennom skogen til bakerens.\n",
      "[('took', 'VBD'), ('went', 'VBD')]\n"
     ]
    }
   ],
   "source": []
  },
  {
   "cell_type": "code",
   "execution_count": 9,
   "metadata": {},
   "outputs": [],
   "source": [
    "\n",
    "sentences_data = []\n",
    "\n",
    "for sentence in sentences:\n",
    "    sentence_translated = translate(sentence, \"nb\")\n",
    "    sentence_verbs_pos = get_sentence_verbs(sentence)\n",
    "\n",
    "    verb_translations = {}\n",
    "    for verb in sentence_verbs_pos:\n",
    "        verb_translated = translate(verb[0], \"nb\")\n",
    "        verb_translations[verb[0]] = verb_translated\n",
    "    \n",
    "    sentences_data.append({\n",
    "        'sentence_eng': sentence,\n",
    "        'sentence_no': sentence_translated,\n",
    "        'verbs_eng_pos': sentence_verbs_pos,\n",
    "        'verb_trans_no': verb_translations\n",
    "    })"
   ]
  },
  {
   "cell_type": "code",
   "execution_count": 10,
   "metadata": {},
   "outputs": [
    {
     "name": "stdout",
     "output_type": "stream",
     "text": [
      "[{'sentence_eng': 'Once upon a time there were four little Rabbits, and their names were-- Flopsy, Mopsy, Cotton-tail, and Peter.', 'sentence_no': 'Det var en gang fire små kaniner, og navnene deres var- Flopsy, Mopsy, Cotton-tail og Peter.', 'verbs_eng_pos': [('were', 'VBD'), ('were', 'VBD')], 'verb_trans_no': {'were': 'Var'}}, {'sentence_eng': 'They lived with their Mother in a sand-bank, underneath the root of a very big fir-tree.', 'sentence_no': 'De bodde sammen med sin mor i en sandbanke, under roten av et veldig stort grantre.', 'verbs_eng_pos': [('lived', 'VBD')], 'verb_trans_no': {'lived': 'Bodde'}}, {'sentence_eng': \"'Now my dears,' said old Mrs Rabbit one morning, 'you may go into the fields or down the lane, but don't go into Mr McGregor's garden: your Father had an accident there; he was put in a pie by Mrs McGregor.'\", 'sentence_no': \"'Nå mine kjære,' sa gamle Mrs Rabbit en morgen, 'du kan gå inn i feltene eller nedover banen, men ikke gå inn i Mr McGregor hage: Din far hadde en ulykke der; Han ble satt i en pai av Mrs McGregor.'\", 'verbs_eng_pos': [('said', 'VBD'), ('go', 'VB'), ('do', 'VBP'), ('go', 'VB'), ('had', 'VBD'), ('was', 'VBD'), ('put', 'VBN')], 'verb_trans_no': {'said': 'Sa', 'go': 'Gå', 'do': 'av', 'had': 'Hda', 'was': 'Var', 'put': 'Sette'}}, {'sentence_eng': \"'Now run along, and don't get into mischief.\", 'sentence_no': '\"Løp nå sammen, og ikke kom inn i ugagn.', 'verbs_eng_pos': [('run', 'VBP'), ('do', 'VBP'), ('get', 'VB')], 'verb_trans_no': {'run': 'Kjøre', 'do': 'av', 'get': 'Få'}}, {'sentence_eng': \"I am going out.'\", 'sentence_no': \"Jeg skal ut.'\", 'verbs_eng_pos': [('am', 'VBP'), ('going', 'VBG')], 'verb_trans_no': {'am': 'På', 'going': 'Kommer'}}, {'sentence_eng': \"Then old Mrs Rabbit took a basket and her umbrella, and went through the wood to the baker's.\", 'sentence_no': 'Så tok fru Rabbit en kurv og paraplyen hennes, og gikk gjennom skogen til bakerens.', 'verbs_eng_pos': [('took', 'VBD'), ('went', 'VBD')], 'verb_trans_no': {'took': 'Tok', 'went': 'Gikk'}}, {'sentence_eng': 'She bought a loaf of brown bread and five currant buns.', 'sentence_no': 'Hun kjøpte et brød med brunt brød og fem currant boller.', 'verbs_eng_pos': [('bought', 'VBD')], 'verb_trans_no': {'bought': 'Kjøpte'}}]\n"
     ]
    }
   ],
   "source": [
    "print(sentences_data)"
   ]
  }
 ],
 "metadata": {
  "kernelspec": {
   "display_name": "Python 3",
   "language": "python",
   "name": "python3"
  },
  "language_info": {
   "codemirror_mode": {
    "name": "ipython",
    "version": 3
   },
   "file_extension": ".py",
   "mimetype": "text/x-python",
   "name": "python",
   "nbconvert_exporter": "python",
   "pygments_lexer": "ipython3",
   "version": "3.8.7"
  }
 },
 "nbformat": 4,
 "nbformat_minor": 4
}
